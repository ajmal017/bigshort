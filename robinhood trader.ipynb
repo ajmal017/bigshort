{
 "cells": [
  {
   "cell_type": "code",
   "execution_count": 10,
   "metadata": {},
   "outputs": [],
   "source": [
    "from Robinhood import Robinhood, endpoints\n",
    "import robin_stocks as r\n",
    "import inspect\n",
    "import math\n",
    "import matplotlib.pyplot as plt\n",
    "import datetime as dt"
   ]
  },
  {
   "cell_type": "code",
   "execution_count": 8,
   "metadata": {
    "hideCode": false,
    "hidePrompt": false
   },
   "outputs": [],
   "source": [
    "my_trader = Robinhood()\n",
    "my_trader = r\n",
    "my_trader.login(username=\"anshul.tibrewal2203@gmail.com\", password=\"Icangeta45!\")\n",
    "bs = \"bs\""
   ]
  },
  {
   "cell_type": "code",
   "execution_count": 45,
   "metadata": {},
   "outputs": [
    {
     "data": {
      "text/plain": [
       "{'begins_at': '2020-05-08T00:00:00Z',\n",
       " 'open_price': '0.010000',\n",
       " 'close_price': '7.100000',\n",
       " 'high_price': '7.600000',\n",
       " 'low_price': '0.010000',\n",
       " 'volume': 0,\n",
       " 'session': 'reg',\n",
       " 'interpolated': False}"
      ]
     },
     "execution_count": 45,
     "metadata": {},
     "output_type": "execute_result"
    }
   ],
   "source": [
    "item"
   ]
  },
  {
   "cell_type": "code",
   "execution_count": 44,
   "metadata": {
    "hideCode": true,
    "hideOutput": true
   },
   "outputs": [
    {
     "name": "stdout",
     "output_type": "stream",
     "text": [
      "Found Additional pages.\n",
      "Loading page 2 ...\n"
     ]
    },
    {
     "data": {
      "image/png": "[encoded data removed]",
      "text/plain": [
       "<Figure size 360x288 with 1 Axes>"
      ]
     },
     "metadata": {
      "needs_background": "light"
     },
     "output_type": "display_data"
    }
   ],
   "source": [
    "#!!! fill out the specific option information\n",
    "symbol = 'ENPH'\n",
    "expirationDate = '2020-06-19'\n",
    "strike = 55\n",
    "optionType = 'call'\n",
    "span = 'year' #available options are day,week,year, and 5year\n",
    "#!!!\n",
    "days = 20\n",
    "historicalData = r.get_option_historicals(symbol,expirationDate,strike,optionType,span)\n",
    "\n",
    "dates = []\n",
    "closingPrices = []\n",
    "openPrices = []\n",
    "\n",
    "for item in historicalData['data_points']:\n",
    "#     print(item)\n",
    "    dates.append(dt.datetime.strptime(item['begins_at'],'%Y-%m-%dT%H:%M:%SZ'))\n",
    "    closingPrices.append(float(item['close_price']))\n",
    "    openPrices.append(float(item['open_price']))\n",
    "\n",
    "# print(openPrices)\n",
    "#!!! I made it so it only got the last 30 days but you could delete these lines to get full year.\n",
    "dates = dates[-days:]\n",
    "closingPrices = closingPrices[-days:]\n",
    "openPrices = openPrices[-days:]\n",
    "#\n",
    "start_date = dates[0]\n",
    "\n",
    "\n",
    "# change the dates into a format that matplotlib can recognize.\n",
    "# x = [dt.datetime.strptime(d,'%Y-%m-%dT%H:%M:%SZ') for d in dates]\n",
    "x = []\n",
    "for d in dates:\n",
    "    seconds = (d - start_date).total_seconds()/86400\n",
    "    x.append(seconds)\n",
    "    \n",
    "\n",
    "\n",
    "plt.figure(figsize=(5,4))\n",
    "# plots the data.\n",
    "plt.plot(x, closingPrices, 'ro')\n",
    "# plt.plot(x, openPrices, 'bo')\n",
    "plt.title(\"Option price for \"+r.get_name_by_symbol(symbol)+\" over time\")\n",
    "plt.xlabel(\"Dates\")\n",
    "plt.ylabel(\"Price\")\n",
    "plt.show()"
   ]
  },
  {
   "cell_type": "code",
   "execution_count": 46,
   "metadata": {},
   "outputs": [
    {
     "ename": "AttributeError",
     "evalue": "module 'robin_stocks' has no attribute 'get_options'",
     "output_type": "error",
     "traceback": [
      "\u001b[0;31m---------------------------------------------------------------------------\u001b[0m",
      "\u001b[0;31mAttributeError\u001b[0m                            Traceback (most recent call last)",
      "\u001b[0;32m<ipython-input-46-2984435203d2>\u001b[0m in \u001b[0;36m<module>\u001b[0;34m\u001b[0m\n\u001b[1;32m      1\u001b[0m \u001b[0mdate\u001b[0m \u001b[0;34m=\u001b[0m \u001b[0;34m\"2020-05-15\"\u001b[0m\u001b[0;34m\u001b[0m\u001b[0;34m\u001b[0m\u001b[0m\n\u001b[1;32m      2\u001b[0m \u001b[0mtickr\u001b[0m \u001b[0;34m=\u001b[0m \u001b[0;34m\"ENPH\"\u001b[0m\u001b[0;34m\u001b[0m\u001b[0;34m\u001b[0m\u001b[0m\n\u001b[0;32m----> 3\u001b[0;31m \u001b[0mcalls\u001b[0m \u001b[0;34m=\u001b[0m \u001b[0mmy_trader\u001b[0m\u001b[0;34m.\u001b[0m\u001b[0mget_options\u001b[0m\u001b[0;34m(\u001b[0m\u001b[0mtickr\u001b[0m\u001b[0;34m,\u001b[0m \u001b[0mdate\u001b[0m\u001b[0;34m,\u001b[0m \u001b[0;34m\"call\"\u001b[0m\u001b[0;34m)\u001b[0m\u001b[0;34m\u001b[0m\u001b[0;34m\u001b[0m\u001b[0m\n\u001b[0m\u001b[1;32m      4\u001b[0m \u001b[0mputs\u001b[0m \u001b[0;34m=\u001b[0m \u001b[0mmy_trader\u001b[0m\u001b[0;34m.\u001b[0m\u001b[0mget_options\u001b[0m\u001b[0;34m(\u001b[0m\u001b[0mtickr\u001b[0m\u001b[0;34m,\u001b[0m \u001b[0mdate\u001b[0m\u001b[0;34m,\u001b[0m \u001b[0;34m\"put\"\u001b[0m\u001b[0;34m)\u001b[0m\u001b[0;34m\u001b[0m\u001b[0;34m\u001b[0m\u001b[0m\n",
      "\u001b[0;31mAttributeError\u001b[0m: module 'robin_stocks' has no attribute 'get_options'"
     ]
    }
   ],
   "source": [
    "date = \"2020-05-15\"\n",
    "tickr = \"ENPH\"\n",
    "calls = my_trader.get_options(tickr, date, \"call\")\n",
    "puts = my_trader.get_options(tickr, date, \"put\")"
   ]
  },
  {
   "cell_type": "code",
   "execution_count": 21,
   "metadata": {},
   "outputs": [
    {
     "name": "stdout",
     "output_type": "stream",
     "text": [
      "{'chain_id': '53ac412e-d84f-4cd8-a239-fbbe93354dbd', 'chain_symbol': 'ENPH', 'created_at': '2020-02-11T01:10:11.123194Z', 'expiration_date': '2020-05-15', 'id': '4179a3da-7426-4be9-9614-fc0ffd803b68', 'issue_date': '2012-04-16', 'min_ticks': {'above_tick': '0.10', 'below_tick': '0.05', 'cutoff_price': '3.00'}, 'rhs_tradability': 'untradable', 'state': 'active', 'strike_price': '55.0000', 'tradability': 'tradable', 'type': 'call', 'updated_at': '2020-02-11T01:10:11.123204Z', 'url': 'https://api.robinhood.com/options/instruments/4179a3da-7426-4be9-9614-fc0ffd803b68/'} \n",
      "\n",
      "{'chain_id': '53ac412e-d84f-4cd8-a239-fbbe93354dbd', 'chain_symbol': 'ENPH', 'created_at': '2020-02-11T01:10:11.123273Z', 'expiration_date': '2020-05-15', 'id': 'f8a54abd-2916-43bb-9260-780d51e9d8b7', 'issue_date': '2012-04-16', 'min_ticks': {'above_tick': '0.10', 'below_tick': '0.05', 'cutoff_price': '3.00'}, 'rhs_tradability': 'untradable', 'state': 'active', 'strike_price': '55.0000', 'tradability': 'tradable', 'type': 'put', 'updated_at': '2020-02-11T01:10:11.123282Z', 'url': 'https://api.robinhood.com/options/instruments/f8a54abd-2916-43bb-9260-780d51e9d8b7/'} \n",
      "\n"
     ]
    }
   ],
   "source": [
    "idx = 12\n",
    "call = calls[idx]\n",
    "print(call, \"\\n\")\n",
    "put = puts[idx]\n",
    "print(put, \"\\n\")"
   ]
  },
  {
   "cell_type": "code",
   "execution_count": 22,
   "metadata": {},
   "outputs": [
    {
     "name": "stdout",
     "output_type": "stream",
     "text": [
      "{'adjusted_mark_price': '3.700000', 'ask_price': '3.800000', 'ask_size': 60, 'bid_price': '3.600000', 'bid_size': 11, 'break_even_price': '58.700000', 'high_price': '4.100000', 'instrument': 'https://api.robinhood.com/options/instruments/4179a3da-7426-4be9-9614-fc0ffd803b68/', 'last_trade_price': '3.700000', 'last_trade_size': 2, 'low_price': '2.150000', 'mark_price': '3.700000', 'open_interest': 1669, 'previous_close_date': '2020-05-07', 'previous_close_price': '2.280000', 'volume': 432, 'chance_of_profit_long': '0.388735', 'chance_of_profit_short': '0.611265', 'delta': '0.667985', 'gamma': '0.059409', 'implied_volatility': '0.770342', 'rho': '0.006628', 'theta': '-0.158596', 'vega': '0.028797', 'high_fill_rate_buy_price': '3.760000', 'high_fill_rate_sell_price': '3.610000', 'low_fill_rate_buy_price': '3.680000', 'low_fill_rate_sell_price': '3.700000'} \n",
      "\n",
      "\n",
      "{'adjusted_mark_price': '1.450000', 'ask_price': '1.500000', 'ask_size': 11, 'bid_price': '1.400000', 'bid_size': 10, 'break_even_price': '53.550000', 'high_price': '2.700000', 'instrument': 'https://api.robinhood.com/options/instruments/f8a54abd-2916-43bb-9260-780d51e9d8b7/', 'last_trade_price': '1.410000', 'last_trade_size': 1, 'low_price': '1.350000', 'mark_price': '1.450000', 'open_interest': 1391, 'previous_close_date': '2020-05-07', 'previous_close_price': '3.030000', 'volume': 386, 'chance_of_profit_long': '0.284846', 'chance_of_profit_short': '0.715154', 'delta': '-0.333681', 'gamma': '0.058692', 'implied_volatility': '0.781298', 'rho': '-0.003944', 'theta': '-0.160942', 'vega': '0.028854', 'high_fill_rate_buy_price': '1.490000', 'high_fill_rate_sell_price': '1.410000', 'low_fill_rate_buy_price': '1.440000', 'low_fill_rate_sell_price': '1.460000'}\n"
     ]
    }
   ],
   "source": [
    "call_data = my_trader.get_option_market_data(call[\"id\"])\n",
    "put_data = my_trader.get_option_market_data(put[\"id\"])                                            \n",
    "print(call_data, \"\\n\\n\")\n",
    "print(put_data)\n"
   ]
  },
  {
   "cell_type": "code",
   "execution_count": 211,
   "metadata": {},
   "outputs": [
    {
     "data": {
      "text/plain": [
       "0.6634179548215633"
      ]
     },
     "execution_count": 211,
     "metadata": {},
     "output_type": "execute_result"
    }
   ],
   "source": [
    "C = float(call_data[\"adjusted_mark_price\"])\n",
    "S = \n",
    "T = 11/365\n",
    "bren_subra_approx(T, C, S)"
   ]
  },
  {
   "cell_type": "code",
   "execution_count": 13,
   "metadata": {},
   "outputs": [],
   "source": [
    "# Calculate IV or sigma various methods\n",
    "\n",
    "# Use Brenes and Subrahmanyam approximation\n",
    "def bren_subra_approx (time, option_price, stock_price):\n",
    "    iv = (math.sqrt(2*math.pi/time))*(option_price/stock_price)\n",
    "    return iv"
   ]
  },
  {
   "cell_type": "code",
   "execution_count": 14,
   "metadata": {},
   "outputs": [
    {
     "data": {
      "text/plain": [
       "{'results': [{'quote': 'https://api.robinhood.com/quotes/69cbc174-ead1-49a9-9c72-a8f015de474f/',\n",
       "   'symbol': 'ENPH',\n",
       "   'interval': 'day',\n",
       "   'span': 'week',\n",
       "   'bounds': 'regular',\n",
       "   'instrument': 'https://api.robinhood.com/instruments/69cbc174-ead1-49a9-9c72-a8f015de474f/',\n",
       "   'historicals': [{'begins_at': '2020-05-04T00:00:00Z',\n",
       "     'open_price': '41.750000',\n",
       "     'close_price': '43.980000',\n",
       "     'high_price': '44.150000',\n",
       "     'low_price': '41.570000',\n",
       "     'volume': 3294538,\n",
       "     'session': 'reg',\n",
       "     'interpolated': False},\n",
       "    {'begins_at': '2020-05-05T00:00:00Z',\n",
       "     'open_price': '46.330000',\n",
       "     'close_price': '44.370000',\n",
       "     'high_price': '46.500000',\n",
       "     'low_price': '43.790000',\n",
       "     'volume': 5430121,\n",
       "     'session': 'reg',\n",
       "     'interpolated': False},\n",
       "    {'begins_at': '2020-05-06T00:00:00Z',\n",
       "     'open_price': '47.000000',\n",
       "     'close_price': '52.680000',\n",
       "     'high_price': '53.530000',\n",
       "     'low_price': '46.500000',\n",
       "     'volume': 11216009,\n",
       "     'session': 'reg',\n",
       "     'interpolated': False},\n",
       "    {'begins_at': '2020-05-07T00:00:00Z',\n",
       "     'open_price': '52.560000',\n",
       "     'close_price': '54.490000',\n",
       "     'high_price': '55.880000',\n",
       "     'low_price': '50.560000',\n",
       "     'volume': 8124638,\n",
       "     'session': 'reg',\n",
       "     'interpolated': False},\n",
       "    {'begins_at': '2020-05-08T00:00:00Z',\n",
       "     'open_price': '55.740000',\n",
       "     'close_price': '57.280000',\n",
       "     'high_price': '57.842800',\n",
       "     'low_price': '54.370000',\n",
       "     'volume': 4426249,\n",
       "     'session': 'reg',\n",
       "     'interpolated': False}],\n",
       "   'InstrumentID': '69cbc174-ead1-49a9-9c72-a8f015de474f'}]}"
      ]
     },
     "execution_count": 14,
     "metadata": {},
     "output_type": "execute_result"
    }
   ],
   "source": [
    "my_trader.get_historical_quotes(tickr, \"day\", \"week\")\n",
    "# my_trader.quote_data(\"TSLA\")"
   ]
  },
  {
   "cell_type": "code",
   "execution_count": 76,
   "metadata": {},
   "outputs": [],
   "source": [
    "tickr = \"AMZN\"\n",
    "# my_trader.get_news(tickr)\n"
   ]
  },
  {
   "cell_type": "code",
   "execution_count": 27,
   "metadata": {},
   "outputs": [],
   "source": [
    "# my_trader.positions()\n",
    "stock_instrument = my_trader.instruments(\"GEVO\")[0]\n",
    "# stock_instrument"
   ]
  },
  {
   "cell_type": "code",
   "execution_count": 42,
   "metadata": {},
   "outputs": [
    {
     "name": "stdout",
     "output_type": "stream",
     "text": [
      "{'account': 'https://api.robinhood.com/accounts/5XD84262/', 'instrument': 'https://api.robinhood.com/options/instruments/4179a3da-7426-4be9-9614-fc0ffd803b68/', 'symbol': 'ENPH', 'type': 'market', 'time_in_force': 'gfd', 'trigger': 'immediate', 'price': 57.49, 'quantity': 1, 'side': 'buy'}\n",
      "400 Client Error: Bad Request for url: https://api.robinhood.com/orders/\n"
     ]
    }
   ],
   "source": [
    "url = str(\"https://api.robinhood.com/options/instruments/4179a3da-7426-4be9-9614-fc0ffd803b68/\")\n",
    "buy_order = my_trader.place_market_buy_order(url, symbol='ENPH', time_in_force ='GFD', quantity=1)"
   ]
  },
  {
   "cell_type": "code",
   "execution_count": null,
   "metadata": {},
   "outputs": [],
   "source": []
  }
 ],
 "metadata": {
  "celltoolbar": "Hide code",
  "kernelspec": {
   "display_name": "Python 3",
   "language": "python",
   "name": "python3"
  },
  "language_info": {
   "codemirror_mode": {
    "name": "ipython",
    "version": 3
   },
   "file_extension": ".py",
   "mimetype": "text/x-python",
   "name": "python",
   "nbconvert_exporter": "python",
   "pygments_lexer": "ipython3",
   "version": "3.6.8"
  }
 },
 "nbformat": 4,
 "nbformat_minor": 2
}
